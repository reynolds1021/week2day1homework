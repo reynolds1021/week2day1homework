{
 "cells": [
  {
   "cell_type": "markdown",
   "metadata": {},
   "source": [
    "`1. Write a function that loops over all strings within the collection passed in, and changes all vowels to a dash.`\n",
    "\n",
    "<strong>Example</strong>: [ \"Bob\", \"Vowel\", \"Hello\" ]\n",
    "<br>\n",
    "<strong>Output</strong>: [ \"B-b\", \"V-w-l\", \"H-ll-\" ]"
   ]
  },
  {
   "cell_type": "code",
   "execution_count": 80,
   "metadata": {},
   "outputs": [
    {
     "data": {
      "text/plain": [
       "'Wr-t- - f-nct--n th-t l--ps -v-r -ll str-ngs w-th-n th- c-ll-ct--n p-ss-d -n, -nd ch-ng-s -ll v-w-ls t- - d-sh'"
      ]
     },
     "execution_count": 80,
     "metadata": {},
     "output_type": "execute_result"
    }
   ],
   "source": [
    "def vowel(s):\n",
    "    replace = \"-\" #replacement character\n",
    "    null = \"\" #\n",
    "    #Loop over the input string s\n",
    "    for letter in s:\n",
    "        if letter in {\"a\",\"e\",\"i\",\"o\",\"u\",\"A\",\"E\",\"I\",\"O\",\"U\"}:\n",
    "            null += replace #replace all vowels with \"-\"\n",
    "        \n",
    "        else: \n",
    "            null += letter #Otherwise leave it alone\n",
    "    \n",
    "    return null #Return the result \n",
    "    \n",
    "    #Example input:\n",
    "    \n",
    "vowel(\"Write a function that loops over all strings within the collection passed in, and changes all vowels to a dash\")\n",
    "        \n",
    "    \n"
   ]
  },
  {
   "cell_type": "markdown",
   "metadata": {},
   "source": [
    "`2. Write a program which will find all such numbers which are divisible by 7 but are not a multiple of 5, between 2000 and 3200 (both included). The numbers obtained should be printed in a comma-separated sequence on a single line.`"
   ]
  },
  {
   "cell_type": "code",
   "execution_count": 71,
   "metadata": {},
   "outputs": [
    {
     "name": "stdout",
     "output_type": "stream",
     "text": [
      "The multiples of 7 between 2000 and 3000 are: \n",
      "2002,2009,2016,2023,2037,2044,2051,2058,2072,2079,2086,2093,2107,2114,2121,2128,2142,2149,2156,2163,2177,2184,2191,2198,2212,2219,2226,2233,2247,2254,2261,2268,2282,2289,2296,2303,2317,2324,2331,2338,2352,2359,2366,2373,2387,2394,2401,2408,2422,2429,2436,2443,2457,2464,2471,2478,2492,2499,2506,2513,2527,2534,2541,2548,2562,2569,2576,2583,2597,2604,2611,2618,2632,2639,2646,2653,2667,2674,2681,2688,2702,2709,2716,2723,2737,2744,2751,2758,2772,2779,2786,2793,2807,2814,2821,2828,2842,2849,2856,2863,2877,2884,2891,2898,2912,2919,2926,2933,2947,2954,2961,2968,2982,2989,2996,3003,3017,3024,3031,3038,3052,3059,3066,3073,3087,3094,3101,3108,3122,3129,3136,3143,3157,3164,3171,3178,3192,3199\n"
     ]
    }
   ],
   "source": [
    "number = [] #Initialize a null string\n",
    "\n",
    "for i in range(2000,3200):\n",
    "    if (i % 7) == 0 and (i % 5) != 0:\n",
    "        number.append(str(i))\n",
    "        \n",
    "print(\"The multiples of 7 between 2000 and 3000 are: \\n\" + ','.join(number))    #Print all multiples of 7 in the given range    \n",
    "    \n",
    "    "
   ]
  },
  {
   "cell_type": "markdown",
   "metadata": {},
   "source": [
    "`3. Write a program that calculates the number of upper case letters and lower case letters in a sentence.`\n",
    "\n",
    "<strong>Example</strong>: \"Hello world!\"\n",
    "<br>\n",
    "<strong>Output</strong>: <br>\n",
    "UPPER CASE 1\n",
    "<br>\n",
    "LOWER CASE 9"
   ]
  },
  {
   "cell_type": "code",
   "execution_count": 72,
   "metadata": {},
   "outputs": [
    {
     "name": "stdout",
     "output_type": "stream",
     "text": [
      "Enter a combination of upper case and lower case characters:\n",
      "HiTuIo\n",
      "\n",
      "The Total Number of Upper Case Letters is:  3\n",
      "The Total Number of Lower Case is:  3\n"
     ]
    }
   ],
   "source": [
    "string = input(\"Enter a combination of upper case and lower case characters:\\n\")\n",
    "#Initialize the variables for digits d, and letters, l\n",
    "\n",
    "u = l = 0 #Initialize the lower and upper case letters at 0\n",
    "\n",
    "for i in range(len(string)): #Loop through the input string\n",
    "    \n",
    "    if(string[i].islower()):\n",
    "        l = l + 1 #Incrementing l after each loop\n",
    "    elif(string[i].isupper()):\n",
    "        u = u + 1 #Incrementing u after each loop\n",
    "    \n",
    "print(\"\\nThe Total Number of Upper Case Letters is: \", l)\n",
    "print(\"The Total Number of Lower Case is: \", u)"
   ]
  },
  {
   "cell_type": "markdown",
   "metadata": {},
   "source": [
    "`4. Write a program that accepts a sentence and calculate the number of letters and digits.`\n",
    "\n",
    "<strong>Example</strong>: \"hello world! 123\"\n",
    "<br>\n",
    "<strong>Output</strong>:<br>\n",
    "LETTERS 10<br>\n",
    "DIGITS 3"
   ]
  },
  {
   "cell_type": "code",
   "execution_count": 81,
   "metadata": {},
   "outputs": [
    {
     "name": "stdout",
     "output_type": "stream",
     "text": [
      "Enter an alphanumeric string:ten10\n",
      "\n",
      "The Total Number of Letters is:  3\n",
      "The Total Number of Digits is:  2\n"
     ]
    }
   ],
   "source": [
    "string = input(\"Enter an alphanumeric string:\")\n",
    "#Initialize the variables for digits d, and letters, l\n",
    "d = l = 0 #Initialize the digits and letters at 0\n",
    "\n",
    "for i in range(len(string)): #Loop through the input string\n",
    "    if(string[i].isalpha()):\n",
    "        l = l + 1\n",
    "    elif(string[i].isdigit()):\n",
    "        d = d + 1\n",
    "    \n",
    "print(\"\\nThe Total Number of Letters is: \", l)\n",
    "print(\"The Total Number of Digits is: \", d)"
   ]
  },
  {
   "cell_type": "markdown",
   "metadata": {},
   "source": [
    "`5. Write a program that creates a pyramid of Xs`\n",
    "\n",
    "<strong>Output</strong>:\n",
    "<br>\n",
    "&nbsp;&nbsp;&nbsp;&nbsp;&nbsp;&nbsp;&nbsp;&nbsp;X<br>\n",
    "&nbsp;&nbsp;&nbsp;&nbsp;&nbsp;&nbsp;XXX<br>\n",
    "&nbsp;&nbsp;&nbsp;&nbsp;XXXXX<br>\n",
    "&nbsp;&nbsp;XXXXXXX<br>\n",
    "XXXXXXXXX<br>"
   ]
  },
  {
   "cell_type": "code",
   "execution_count": 88,
   "metadata": {},
   "outputs": [
    {
     "name": "stdout",
     "output_type": "stream",
     "text": [
      "        \r\n",
      "       X\r\n",
      "      XXX\r\n",
      "     XXXXX\r\n",
      "    XXXXXXX\r\n"
     ]
    }
   ],
   "source": [
    "def pyramid(n):\n",
    "    # number of spaces, k \n",
    "    k = 2*n - 2\n",
    "    \n",
    "    #outside loop to determine number of rows \n",
    "    \n",
    "    for i in range(0,n):\n",
    "        \n",
    "        #inner loop to determine number of spaces\n",
    "        \n",
    "        \n",
    "        for j in range(0,k):\n",
    "            print(end = \" \") #Print a blank at the end of each row \n",
    "            \n",
    "        #decrementing k after each loop    \n",
    "        k = k - 1 \n",
    "        \n",
    "        for j in range(0, 2*i-1): #determine the number of X's per line \n",
    "            \n",
    "            #Printing X's and ending with a blank\n",
    "            print(\"X\", end = \"\") \n",
    "            \n",
    "        print(\"\\r\") #Carriage return\n",
    "        \n",
    "n = 5 #Enter number of rows\n",
    "pyramid(n)\n",
    "        "
   ]
  },
  {
   "cell_type": "code",
   "execution_count": 1,
   "metadata": {},
   "outputs": [
    {
     "ename": "NameError",
     "evalue": "name 'pyramid' is not defined",
     "output_type": "error",
     "traceback": [
      "\u001b[0;31m---------------------------------------------------------------------------\u001b[0m",
      "\u001b[0;31mNameError\u001b[0m                                 Traceback (most recent call last)",
      "\u001b[0;32m<ipython-input-1-719ce512082c>\u001b[0m in \u001b[0;36m<module>\u001b[0;34m\u001b[0m\n\u001b[1;32m      1\u001b[0m \u001b[0mn\u001b[0m \u001b[0;34m=\u001b[0m \u001b[0;36m6\u001b[0m\u001b[0;34m\u001b[0m\u001b[0;34m\u001b[0m\u001b[0m\n\u001b[0;32m----> 2\u001b[0;31m \u001b[0mpyramid\u001b[0m\u001b[0;34m(\u001b[0m\u001b[0mn\u001b[0m\u001b[0;34m)\u001b[0m\u001b[0;34m\u001b[0m\u001b[0;34m\u001b[0m\u001b[0m\n\u001b[0m",
      "\u001b[0;31mNameError\u001b[0m: name 'pyramid' is not defined"
     ]
    }
   ],
   "source": []
  },
  {
   "cell_type": "code",
   "execution_count": null,
   "metadata": {},
   "outputs": [],
   "source": []
  }
 ],
 "metadata": {
  "kernelspec": {
   "display_name": "Python 3",
   "language": "python",
   "name": "python3"
  },
  "language_info": {
   "codemirror_mode": {
    "name": "ipython",
    "version": 3
   },
   "file_extension": ".py",
   "mimetype": "text/x-python",
   "name": "python",
   "nbconvert_exporter": "python",
   "pygments_lexer": "ipython3",
   "version": "3.8.3"
  }
 },
 "nbformat": 4,
 "nbformat_minor": 4
}
